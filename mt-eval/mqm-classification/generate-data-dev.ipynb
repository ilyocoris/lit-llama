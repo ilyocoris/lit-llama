{
 "cells": [
  {
   "cell_type": "code",
   "execution_count": 29,
   "metadata": {},
   "outputs": [],
   "source": [
    "import re\n",
    "import os\n",
    "import sys\n",
    "import tqdm\n",
    "import json\n",
    "import pandas as pd\n",
    "from langchain import PromptTemplate, FewShotPromptTemplate"
   ]
  },
  {
   "cell_type": "code",
   "execution_count": null,
   "metadata": {},
   "outputs": [],
   "source": [
    "# TRANSFORMS THE DATA FROM JSONL TO CSV WITH SRC, TGT, OUTPUT\n",
    "def jsonl_to_csv(jsonl_path : str, csv_path : str):\n",
    "    with open(jsonl_path, \"r\") as f:\n",
    "        data = [json.loads(line) for line in f.readlines()]\n",
    "    df = []\n",
    "    pattern_srctgt = re.compile(r\"Source: (.*)\\nTarget: (.*)\")\n",
    "    for sample in tqdm.tqdm(data, total=len(data), desc=\"Processing jsonl\"):\n",
    "        match = pattern_srctgt.search(sample[\"input\"])\n",
    "        if not match:\n",
    "            print(f\"Skipping {sample['input']}\")\n",
    "            continue\n",
    "        src = match.group(1).strip()\n",
    "        tgt = match.group(2).strip()\n",
    "        df.append({\n",
    "            \"src\": src,\n",
    "            \"tgt\": tgt,\n",
    "            \"output\": sample[\"output\"],\n",
    "        })\n",
    "    df = pd.DataFrame(df)\n",
    "    df.to_csv(csv_path, index=False)\n",
    "data_path = \"/fs/startiger0/nmoghe/data/llama/pilot/classification/exp1/ref-free\"\n",
    "jsonl_to_csv(f\"{data_path}/dev.jsonl\", f\"./data/dev.csv\")\n",
    "jsonl_to_csv(f\"{data_path}/train.jsonl\", f\"./data/train.csv\")"
   ]
  },
  {
   "cell_type": "code",
   "execution_count": null,
   "metadata": {},
   "outputs": [],
   "source": [
    "example_prompt = PromptTemplate(\n",
    "    input_variables=[\"src\", \"tgt\", \"output\"], \n",
    "    template=\"Source: {src}\\nTarget: {tgt}\\nOutput: {output}\\n\",\n",
    ")\n",
    "\n",
    "fewshot_template = FewShotPromptTemplate(\n",
    "    examples=[],\n",
    "    example_prompt"
   ]
  }
 ],
 "metadata": {
  "kernelspec": {
   "display_name": ".venv",
   "language": "python",
   "name": "python3"
  },
  "language_info": {
   "codemirror_mode": {
    "name": "ipython",
    "version": 3
   },
   "file_extension": ".py",
   "mimetype": "text/x-python",
   "name": "python",
   "nbconvert_exporter": "python",
   "pygments_lexer": "ipython3",
   "version": "3.8.10"
  },
  "orig_nbformat": 4
 },
 "nbformat": 4,
 "nbformat_minor": 2
}
