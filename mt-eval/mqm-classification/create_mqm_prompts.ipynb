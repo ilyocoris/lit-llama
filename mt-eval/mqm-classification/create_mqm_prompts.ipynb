{
 "cells": [
  {
   "cell_type": "code",
   "execution_count": 1,
   "metadata": {},
   "outputs": [],
   "source": [
    "import re\n",
    "import os\n",
    "import sys\n",
    "import tqdm\n",
    "import json\n",
    "import pandas as pd\n",
    "from langchain import PromptTemplate, FewShotPromptTemplate"
   ]
  },
  {
   "cell_type": "code",
   "execution_count": null,
   "metadata": {},
   "outputs": [],
   "source": [
    "# TRANSFORMS THE DATA FROM JSONL TO CSV WITH SRC, TGT, OUTPUT\n",
    "\n",
    "def jsonl_to_csv(jsonl_path : str, csv_path : str):\n",
    "    with open(jsonl_path, \"r\") as f:\n",
    "        data = [json.loads(line) for line in f.readlines()]\n",
    "    df = []\n",
    "    pattern_srctgt = re.compile(r\"Source: (.*)\\nTarget: (.*)\")\n",
    "    for sample in tqdm.tqdm(data, total=len(data), desc=\"Processing jsonl\"):\n",
    "        match = pattern_srctgt.search(sample[\"input\"])\n",
    "        if not match:\n",
    "            print(f\"Skipping {sample['input']}\")\n",
    "            continue\n",
    "        src = match.group(1).strip()\n",
    "        tgt = match.group(2).strip()\n",
    "        df.append({\n",
    "            \"src\": src,\n",
    "            \"tgt\": tgt,\n",
    "            \"output\": sample[\"output\"],\n",
    "        })\n",
    "    df = pd.DataFrame(df)\n",
    "    df.to_csv(csv_path, index=False)\n",
    "data_path = \"/fs/startiger0/nmoghe/data/llama/pilot/classification/exp1/ref-free\"\n",
    "jsonl_to_csv(f\"{data_path}/dev.jsonl\", f\"./data/dev.csv\")\n",
    "jsonl_to_csv(f\"{data_path}/train.jsonl\", f\"./data/train.csv\")"
   ]
  },
  {
   "cell_type": "code",
   "execution_count": 4,
   "metadata": {},
   "outputs": [],
   "source": [
    "# UTILITY TO SAMPLE FROM FEW-SHOT PROMPTS\n",
    "\n",
    "train_df = pd.read_csv(\"./data/train.csv\")\n",
    "train_minor = train_df[train_df[\"output\"] == \"Minor\"]\n",
    "train_major = train_df[train_df[\"output\"] == \"Major\"]\n",
    "train_noerror = train_df[train_df[\"output\"] == \"No-error\"]\n",
    "assert len(train_minor) > 0 and len(train_major) > 0 and len(train_noerror) > 0\n",
    "def generate_examples():\n",
    "    sampled_minor = train_minor.sample(n=2, replace=False)\n",
    "    sampled_major = train_major.sample(n=2, replace=False)\n",
    "    sampled_noerror = train_noerror.sample(n=2, replace=False)\n",
    "    sampled = pd.concat([sampled_minor, sampled_major, sampled_noerror])\n",
    "    # shuffle rows of sampled\n",
    "    sampled = sampled.sample(frac=1)\n",
    "    examples = [\n",
    "        {\n",
    "            \"src\": row[\"src\"],\n",
    "            \"tgt\": row[\"tgt\"],\n",
    "            \"output\": row[\"output\"],\n",
    "        }\n",
    "        for i, row in sampled.iterrows()\n",
    "    ]\n",
    "    return examples\n",
    "\n",
    "example_prompt = PromptTemplate(\n",
    "    input_variables=[\"src\", \"tgt\", \"output\"], \n",
    "    template=\"Source: {src}\\nTarget: {tgt}\\nOutput: {output}\",\n",
    ")\n",
    "\n"
   ]
  },
  {
   "cell_type": "code",
   "execution_count": 5,
   "metadata": {},
   "outputs": [],
   "source": [
    "dev_df = pd.read_csv(\"./data/dev.csv\")\n",
    "data = []\n",
    "for i, row in dev_df.iterrows():\n",
    "    prompt = FewShotPromptTemplate(\n",
    "        examples=generate_examples(),\n",
    "        example_prompt = example_prompt,\n",
    "        suffix=\"Source: {src}\\nTarget: {tgt}\\nOutput: \",\n",
    "        input_variables=[\"src\", \"tgt\"],\n",
    "    ).format(\n",
    "        src=row[\"src\"],\n",
    "        tgt=row[\"tgt\"],\n",
    "    )\n",
    "    data.append({\n",
    "        \"prompt\": prompt,\n",
    "        \"output\": row[\"output\"],\n",
    "        \"me\":\"\"\n",
    "    })\n",
    "#save data as csv\n",
    "df = pd.DataFrame(data)\n",
    "df.to_csv(\"./data/prompts_fewshot.csv\", index=False)\n"
   ]
  },
  {
   "cell_type": "code",
   "execution_count": 7,
   "metadata": {},
   "outputs": [
    {
     "name": "stdout",
     "output_type": "stream",
     "text": [
      "Accuracy: 0.3201465201465201\n",
      "F1 score: 0.32491751609229963\n"
     ]
    }
   ],
   "source": [
    "# EVALUATION\n",
    "df = pd.read_csv(\"./data/fewshot_outputs.csv\")\n",
    "# create a column that is Minor if me is Minor, Major if me is Major, No-error if me No-error and None otherwise\n",
    "# df[\"me-clean\"] = df[\"me\"].apply(lambda x: x if x in [\"Minor\", \"Major\", \"No-error\"] else None)\n",
    "# assert df[df[\"me-clean\"].isna()] == 0\n",
    "from sklearn.metrics import f1_score, accuracy_score, precision_score, recall_score\n",
    "accuracy = accuracy_score(df['output'], df['me'])\n",
    "# precision = precision_score(df['output'], df['me'])\n",
    "# recall = recall_score(df['output'], df['me'])\n",
    "f1 = f1_score(df['output'], df['me'], average='weighted')\n",
    "\n",
    "# Print the metrics\n",
    "print(\"Accuracy:\", accuracy)\n",
    "# print(\"Precision:\", precision)\n",
    "# print(\"Recall:\", recall)\n",
    "print(\"F1 score:\", f1)"
   ]
  }
 ],
 "metadata": {
  "kernelspec": {
   "display_name": ".venv",
   "language": "python",
   "name": "python3"
  },
  "language_info": {
   "codemirror_mode": {
    "name": "ipython",
    "version": 3
   },
   "file_extension": ".py",
   "mimetype": "text/x-python",
   "name": "python",
   "nbconvert_exporter": "python",
   "pygments_lexer": "ipython3",
   "version": "3.8.10"
  },
  "orig_nbformat": 4
 },
 "nbformat": 4,
 "nbformat_minor": 2
}
